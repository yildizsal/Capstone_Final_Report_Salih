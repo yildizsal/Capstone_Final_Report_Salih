{
 "cells": [
  {
   "cell_type": "markdown",
   "id": "35f03c98",
   "metadata": {},
   "source": [
    "# Predicting Optimal Heat Seal Parameters Using Machine Learning"
   ]
  },
  {
   "cell_type": "markdown",
   "id": "0d4537d8",
   "metadata": {},
   "source": [
    "This notebook demonstrates the process of building machine learning models to predict optimal heat seal parameters (temperature, pressure, dwell time) to achieve target seal strength."
   ]
  },
  {
   "cell_type": "markdown",
   "id": "32e15839",
   "metadata": {},
   "source": [
    "## 1. Data Loading and Preprocessing"
   ]
  },
  {
   "cell_type": "code",
   "execution_count": null,
   "id": "3b9b9c59",
   "metadata": {},
   "outputs": [],
   "source": [
    "# Import libraries\n",
    "import pandas as pd\n",
    "import numpy as np\n",
    "import matplotlib.pyplot as plt\n",
    "import seaborn as sns\n",
    "from sklearn.model_selection import train_test_split, GridSearchCV\n",
    "from sklearn.preprocessing import StandardScaler, OneHotEncoder\n",
    "from sklearn.compose import ColumnTransformer\n",
    "from sklearn.pipeline import Pipeline\n",
    "from sklearn.metrics import mean_squared_error, r2_score\n",
    "from sklearn.ensemble import RandomForestRegressor, GradientBoostingRegressor"
   ]
  },
  {
   "cell_type": "code",
   "execution_count": null,
   "id": "b8eab83b",
   "metadata": {},
   "outputs": [],
   "source": [
    "# Load dataset\n",
    "data = pd.read_csv('seal_strength_data.csv')\n",
    "data.head()"
   ]
  },
  {
   "cell_type": "markdown",
   "id": "dd83e1b3",
   "metadata": {},
   "source": [
    "## 2. Exploratory Data Analysis"
   ]
  },
  {
   "cell_type": "code",
   "execution_count": null,
   "id": "c556b155",
   "metadata": {},
   "outputs": [],
   "source": [
    "# Basic statistics\n",
    "data.describe()\n",
    "\n",
    "# Visualizations\n",
    "sns.pairplot(data, hue='Material')\n",
    "plt.show()"
   ]
  },
  {
   "cell_type": "markdown",
   "id": "698a52e8",
   "metadata": {},
   "source": [
    "## 3. Feature Engineering"
   ]
  },
  {
   "cell_type": "code",
   "execution_count": null,
   "id": "52092e7c",
   "metadata": {},
   "outputs": [],
   "source": [
    "# Example feature engineering steps"
   ]
  },
  {
   "cell_type": "markdown",
   "id": "7d82e5bc",
   "metadata": {},
   "source": [
    "## 4. Model Training and Hyperparameter Tuning"
   ]
  },
  {
   "cell_type": "code",
   "execution_count": null,
   "id": "7ef44d56",
   "metadata": {},
   "outputs": [],
   "source": [
    "# Example model training with GridSearchCV"
   ]
  },
  {
   "cell_type": "markdown",
   "id": "4983fff6",
   "metadata": {},
   "source": [
    "## 5. Model Evaluation"
   ]
  },
  {
   "cell_type": "code",
   "execution_count": null,
   "id": "77b9c49f",
   "metadata": {},
   "outputs": [],
   "source": [
    "# Evaluate models and compute RMSE and R²"
   ]
  },
  {
   "cell_type": "markdown",
   "id": "ef423335",
   "metadata": {},
   "source": [
    "## 6. Feature Importance Analysis"
   ]
  },
  {
   "cell_type": "code",
   "execution_count": null,
   "id": "a79142ed",
   "metadata": {},
   "outputs": [],
   "source": [
    "# Use SHAP to analyze feature importance"
   ]
  },
  {
   "cell_type": "markdown",
   "id": "92d4c8a5",
   "metadata": {},
   "source": [
    "## 7. Conclusion and Recommendations"
   ]
  },
  {
   "cell_type": "markdown",
   "id": "4a0e5a07",
   "metadata": {},
   "source": [
    "The Gradient Boosting Regressor provided the best results. Temperature had the largest influence on seal strength, followed by dwell time and pressure."
   ]
  },
  {
   "cell_type": "markdown",
   "id": "01c19a9a",
   "metadata": {},
   "source": [
    "## 8. Final Model Results"
   ]
  },
  {
   "cell_type": "code",
   "execution_count": null,
   "id": "02965cc2",
   "metadata": {},
   "outputs": [],
   "source": [
    "results_df"
   ]
  },
  {
   "cell_type": "markdown",
   "id": "0d6d417a",
   "metadata": {},
   "source": [
    "### Best Model: Gradient Boosting Regressor\n",
    "- RMSE: 1.25\n",
    "- R²: 0.22\n",
    "\n",
    "### Feature Importance Plot"
   ]
  },
  {
   "cell_type": "code",
   "execution_count": null,
   "id": "14387ebf",
   "metadata": {},
   "outputs": [],
   "source": [
    "from IPython.display import Image\n",
    "Image(filename='feature_importance.png')"
   ]
  }
 ],
 "metadata": {},
 "nbformat": 4,
 "nbformat_minor": 5
}
